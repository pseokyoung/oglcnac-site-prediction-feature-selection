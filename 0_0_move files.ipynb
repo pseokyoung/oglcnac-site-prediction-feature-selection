{
 "cells": [
  {
   "cell_type": "code",
   "execution_count": 1,
   "metadata": {},
   "outputs": [],
   "source": [
    "import shutil\n",
    "import os"
   ]
  },
  {
   "cell_type": "code",
   "execution_count": null,
   "metadata": {},
   "outputs": [],
   "source": [
    "from_dir = \"G://*\"\n",
    "to_dir   = \"C://*\"\n",
    "\n",
    "\"\"\"\n",
    "# copy single file\n",
    "shutil.copyfile(f'{from_dir}/{file_name}.file_format', \n",
    "                f'{to_dir}/{file_name}.file_format')\n",
    "                \n",
    "# copy all folders at a specific directory\n",
    "import os\n",
    "\n",
    "list_folder = os.listdir(from_dir)\n",
    "for folder_name in list_folder:\n",
    "    shutil.copyfile(f'{from_dir}/{folder_name}/{file_name}.file_format', \n",
    "                    f'{to_dir}/{folder_name}/{file_name}.file_format')\n",
    "\"\"\""
   ]
  },
  {
   "cell_type": "code",
   "execution_count": 28,
   "metadata": {},
   "outputs": [],
   "source": [
    "from_dir = \"G://My Drive/Gproject/O_GlcNAc_Final_Features/data/_from_Krishna_radius\"\n",
    "to_dir   = \"C://Users/honsu/OneDrive/Github/glycosylation/o-linked-site-prediction-feature-augment/data/_augmented_features\"\n",
    "\n",
    "protein_list = [x for x in os.listdir(from_dir) if x[-3:]!='csv']\n",
    "\n",
    "for name in protein_list:\n",
    "    if not os.path.exists(f'{to_dir}/{name}.csv'):\n",
    "        \n",
    "        if os.path.exists(f'{from_dir}/{name}/all_AA/combined-output-all-residues-features.csv'):\n",
    "            shutil.copyfile(f'{from_dir}/{name}/all_AA/combined-output-all-residues-features.csv', \n",
    "                            f'{to_dir}/{name}.csv')\n",
    "            \n",
    "        elif os.path.exists(f'{from_dir}/{name}/combined-output-all-residues-features.csv'):\n",
    "            shutil.copyfile(f'{from_dir}/{name}/combined-output-all-residues-features.csv', \n",
    "                            f'{to_dir}/{name}.csv')   \n",
    "            \n",
    "        else:\n",
    "            Warning(\"There not exist such a file name\")"
   ]
  },
  {
   "cell_type": "code",
   "execution_count": 7,
   "metadata": {},
   "outputs": [
    {
     "name": "stdout",
     "output_type": "stream",
     "text": [
      "24622_2\n"
     ]
    }
   ],
   "source": [
    "src_dir = \"C://Users\\honsu\\Google Drive Streaming\\My Drive\\Gproject/O_GlcNAc_Final_Features/data/_from_Krishna_radius\"\n",
    "protein_list = [x for x in os.listdir(src_dir) if x[-3:]!='csv']\n",
    "\n",
    "for name in protein_list:\n",
    "    dst_dir = os.path.join(\"C://Users\\honsu\\OneDrive\\Github\\glycosylation\\o-linked-site-prediction-feature-augment\\data/_augmented_features\", \n",
    "                           f'{name}.csv')\n",
    "    \n",
    "    if not os.path.exists(dst_dir):\n",
    "        if   os.path.exists(os.path.join(src_dir, name, 'all_AA/all_AA_new_feature_window/OUTPUT-WINDOW-all-combine.csv')):\n",
    "            shutil.copyfile(os.path.join(src_dir, name, 'all_AA/all_AA_new_feature_window/OUTPUT-WINDOW-all-combine.csv')\n",
    "                            ,dst_dir)\n",
    "            \n",
    "        else:\n",
    "            print(name)"
   ]
  }
 ],
 "metadata": {
  "kernelspec": {
   "display_name": "python310",
   "language": "python",
   "name": "python3"
  },
  "language_info": {
   "codemirror_mode": {
    "name": "ipython",
    "version": 3
   },
   "file_extension": ".py",
   "mimetype": "text/x-python",
   "name": "python",
   "nbconvert_exporter": "python",
   "pygments_lexer": "ipython3",
   "version": "3.9.12"
  }
 },
 "nbformat": 4,
 "nbformat_minor": 2
}
